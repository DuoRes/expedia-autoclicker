{
 "cells": [
  {
   "cell_type": "code",
   "execution_count": 1,
   "metadata": {},
   "outputs": [
    {
     "name": "stderr",
     "output_type": "stream",
     "text": [
      "/usr/local/lib/python3.9/site-packages/tqdm/auto.py:22: TqdmWarning: IProgress not found. Please update jupyter and ipywidgets. See https://ipywidgets.readthedocs.io/en/stable/user_install.html\n",
      "  from .autonotebook import tqdm as notebook_tqdm\n"
     ]
    }
   ],
   "source": [
    "import os\n",
    "import re\n",
    "import requests\n",
    "from bs4 import BeautifulSoup as bs\n",
    "from selenium import webdriver\n",
    "from selenium.webdriver.chrome.options import Options\n",
    "from selenium.webdriver.common.desired_capabilities import DesiredCapabilities\n",
    "from selenium.webdriver.support.ui import WebDriverWait\n",
    "from selenium.webdriver.support import expected_conditions as EC\n",
    "from selenium.webdriver.common.by import By\n",
    "from selenium.webdriver.common.keys import Keys\n",
    "from selenium.webdriver.common.proxy import Proxy, ProxyType\n",
    "import simplejson as json\n",
    "from datetime import datetime\n",
    "import random\n",
    "from tqdm.auto import tqdm\n",
    "import warnings\n",
    "#from chromedriver_py import binary_path\n",
    "warnings.filterwarnings('ignore')"
   ]
  },
  {
   "cell_type": "code",
   "execution_count": 2,
   "metadata": {},
   "outputs": [],
   "source": [
    "richUser = 'RichieRichman@mail.com'\n",
    "richPassword = 'Ohyeahimrich@2022'\n",
    "poorUser = 'PooriePoorman@outlook.com'\n",
    "poorPassword = 'OhnoImpoor@2022'"
   ]
  },
  {
   "cell_type": "markdown",
   "metadata": {},
   "source": [
    "# Stage 1: Expedia Access"
   ]
  },
  {
   "cell_type": "code",
   "execution_count": 7,
   "metadata": {},
   "outputs": [],
   "source": [
    "browserOptions = Options()\n",
    "browserOptions.add_argument('--ignore-ssl-errors=yes')\n",
    "browserOptions.add_argument('--ignore-certificate-errors')\n",
    "\n",
    "capa = DesiredCapabilities.CHROME\n",
    "capa[\"pageLoadStrategy\"] = \"none\"\n",
    "capa[\"goog:loggingPrefs\"] = {\"performance\": \"ALL\"}\n",
    "driver = webdriver.Chrome(desired_capabilities=capa, chrome_options=browserOptions)\n",
    "wait = WebDriverWait(driver, 60)\n",
    "\n",
    "#create snapshot of the entire page to prevent it from constantly changing\n",
    "driver.get(\"https://expedia.com\")\n",
    "\n",
    "wait.until(EC.presence_of_element_located((By.XPATH, \"//div[.='Sign in']\")))\n",
    "driver.find_element_by_xpath(\"//div[.='Sign in']\").click() # sign in\n",
    "#wait.until(EC.presence_of_element_located((By.XPATH, \"//a[.='Sign in']\")))\n",
    "#driver.find_element_by_xpath(\"//a[.='Sign in']\").click() # sign in"
   ]
  },
  {
   "cell_type": "code",
   "execution_count": 4,
   "metadata": {},
   "outputs": [],
   "source": [
    "def login(user, password):\n",
    "    inputElement = driver.find_element_by_id('loginFormEmailInput')\n",
    "    inputElement.send_keys(user)\n",
    "    inputElement = driver.find_element_by_id('loginFormPasswordInput')\n",
    "    inputElement.send_keys(password)\n",
    "    inputElement.send_keys(Keys.ENTER)"
   ]
  },
  {
   "cell_type": "code",
   "execution_count": 5,
   "metadata": {},
   "outputs": [],
   "source": [
    "login(richUser, richPassword)"
   ]
  },
  {
   "cell_type": "code",
   "execution_count": 61,
   "metadata": {},
   "outputs": [],
   "source": [
    "login(poorUser, poorPassword)"
   ]
  },
  {
   "cell_type": "code",
   "execution_count": 62,
   "metadata": {},
   "outputs": [],
   "source": [
    "#wait.until(EC.presence_of_element_located((By.XPATH, \"//div[.='Richie']\")))\n",
    "driver.find_element_by_xpath(\"//span[.='Cars']\").click()\n",
    "driver.find_element_by_xpath(\"//*[@id='location-field-locn-menu']/div[1]/div[1]/button\").click()\n",
    "inputElement = driver.find_element_by_xpath(\"//*[@id='location-field-locn']\")\n",
    "inputElement.send_keys('SFO')\n",
    "driver.find_element_by_xpath(\"//*[@id='location-field-locn-menu']/div[2]/div[2]/ul/li[1]/button\").click()\n",
    "driver.find_element_by_xpath(\"//*[@id='Rental-cars-transportation']/div[3]/div[2]/button\").click()\n",
    "wait.until(EC.presence_of_element_located((By.XPATH, \"//*[@id='cars-sort-dropdown']\")))\n",
    "driver.find_element_by_xpath(\"//*[@id='cars-sort-dropdown']/option[1]\").click()\n",
    "driver.execute_script(\"arguments[0].click();\", driver.find_element_by_id(\"luxury\"))"
   ]
  },
  {
   "cell_type": "code",
   "execution_count": 59,
   "metadata": {},
   "outputs": [
    {
     "name": "stderr",
     "output_type": "stream",
     "text": [
      "100%|█████████████████████████████████████████| 300/300 [23:18<00:00,  4.66s/it]\n"
     ]
    }
   ],
   "source": [
    "wait = WebDriverWait(driver, 60)\n",
    "for i in tqdm(range(300)):\n",
    "    target = random.randint(1, 4) # randomize the last three inputs\n",
    "    driver.find_elements_by_xpath(\"//button[.='Reserve']\")[-target].click()\n",
    "    driver.switch_to.window(driver.window_handles[1])\n",
    "    wait.until(EC.presence_of_element_located((By.XPATH, \"//*[.='Total']\")))\n",
    "    driver.close()\n",
    "    driver.switch_to.window(driver.window_handles[0])\n",
    "    \n",
    "driver.close()"
   ]
  },
  {
   "cell_type": "code",
   "execution_count": 38,
   "metadata": {},
   "outputs": [],
   "source": [
    "driver.switch_to.window(driver.window_handles[0])"
   ]
  },
  {
   "cell_type": "code",
   "execution_count": 63,
   "metadata": {},
   "outputs": [
    {
     "name": "stderr",
     "output_type": "stream",
     "text": [
      "100%|█████████████████████████████████████████| 300/300 [23:47<00:00,  4.76s/it]\n"
     ]
    }
   ],
   "source": [
    "wait = WebDriverWait(driver, 60)\n",
    "for i in tqdm(range(300)):\n",
    "    target = random.randint(0, 3) # randomize the last three inputs\n",
    "    driver.find_elements_by_xpath(\"//button[.='Reserve']\")[target].click()\n",
    "    driver.switch_to.window(driver.window_handles[1])\n",
    "    wait.until(EC.presence_of_element_located((By.XPATH, \"//*[.='Total']\")))\n",
    "    driver.close()\n",
    "    driver.switch_to.window(driver.window_handles[0])\n",
    "    \n",
    "driver.close()"
   ]
  },
  {
   "cell_type": "code",
   "execution_count": null,
   "metadata": {},
   "outputs": [],
   "source": []
  }
 ],
 "metadata": {
  "kernelspec": {
   "display_name": "Python 3 (ipykernel)",
   "language": "python",
   "name": "python3"
  },
  "language_info": {
   "codemirror_mode": {
    "name": "ipython",
    "version": 3
   },
   "file_extension": ".py",
   "mimetype": "text/x-python",
   "name": "python",
   "nbconvert_exporter": "python",
   "pygments_lexer": "ipython3",
   "version": "3.9.10"
  }
 },
 "nbformat": 4,
 "nbformat_minor": 2
}
